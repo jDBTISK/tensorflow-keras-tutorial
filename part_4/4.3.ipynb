{
 "cells": [
  {
   "cell_type": "code",
   "execution_count": 1,
   "metadata": {},
   "outputs": [
    {
     "name": "stderr",
     "output_type": "stream",
     "text": [
      "/Users/jDB/.pyenv/versions/3.6.5/lib/python3.6/site-packages/h5py/__init__.py:36: FutureWarning: Conversion of the second argument of issubdtype from `float` to `np.floating` is deprecated. In future, it will be treated as `np.float64 == np.dtype(float).type`.\n",
      "  from ._conv import register_converters as _register_converters\n",
      "Using TensorFlow backend.\n"
     ]
    }
   ],
   "source": [
    "from keras.datasets import mnist"
   ]
  },
  {
   "cell_type": "code",
   "execution_count": 2,
   "metadata": {},
   "outputs": [],
   "source": [
    "# MNISTデータ読み込み\n",
    "(x_train, y_train), (x_test, y_test) = mnist.load_data()\n",
    "\n",
    "# 60000x28x28のデータを60000x784に変換\n",
    "x_train = x_train.reshape(60000, 784)\n",
    "# 10000x28x28のデータを10000x784に変換\n",
    "x_test = x_test.reshape(10000, 784)\n",
    "\n",
    "# 型変換\n",
    "x_train = x_train.astype('float32')\n",
    "x_test = x_test.astype('float32')\n",
    "# スケール変換\n",
    "x_train /= 255.0\n",
    "x_test /= 255.0"
   ]
  },
  {
   "cell_type": "code",
   "execution_count": 3,
   "metadata": {},
   "outputs": [],
   "source": [
    "from keras.utils import np_utils\n",
    "\n",
    "# 数値を one-hot の形に変更\n",
    "y_train = np_utils.to_categorical(y_train, 10)\n",
    "y_test = np_utils.to_categorical(y_test, 10)"
   ]
  },
  {
   "cell_type": "code",
   "execution_count": 18,
   "metadata": {},
   "outputs": [],
   "source": [
    "from keras.callbacks import TensorBoard\n",
    "\n",
    "LOG_DIR = \"./logs\"\n",
    "tsb = TensorBoard(log_dir=LOG_DIR)"
   ]
  },
  {
   "cell_type": "code",
   "execution_count": 19,
   "metadata": {},
   "outputs": [],
   "source": [
    "from keras.layers import Input, Dense\n",
    "from keras.models import Model\n",
    "\n",
    "# 入力層 784\n",
    "input = Input(shape=(784, ))\n",
    "# 中間層 64\n",
    "middle = Dense(units=64, activation=\"relu\")(input)\n",
    "# 出力層 10\n",
    "output = Dense(units=10, activation=\"softmax\")(middle)\n",
    "\n",
    "model = Model(inputs=[input], outputs=[output])"
   ]
  },
  {
   "cell_type": "code",
   "execution_count": 20,
   "metadata": {},
   "outputs": [],
   "source": [
    "# モデルのコンパイル\n",
    "model.compile(\n",
    "    optimizer=\"adam\",\n",
    "    loss=\"categorical_crossentropy\",\n",
    "    metrics=[\"accuracy\"]\n",
    ")"
   ]
  },
  {
   "cell_type": "code",
   "execution_count": 22,
   "metadata": {},
   "outputs": [
    {
     "name": "stdout",
     "output_type": "stream",
     "text": [
      "Train on 48000 samples, validate on 12000 samples\n",
      "Epoch 1/20\n",
      "48000/48000 [==============================] - 4s 88us/step - loss: 0.0085 - acc: 0.9975 - val_loss: 0.0125 - val_acc: 0.9962\n",
      "Epoch 2/20\n",
      "48000/48000 [==============================] - 5s 97us/step - loss: 0.0078 - acc: 0.9976 - val_loss: 0.0129 - val_acc: 0.9958\n",
      "Epoch 3/20\n",
      "48000/48000 [==============================] - 4s 78us/step - loss: 0.0064 - acc: 0.9981 - val_loss: 0.0107 - val_acc: 0.9966\n",
      "Epoch 4/20\n",
      "48000/48000 [==============================] - 4s 79us/step - loss: 0.0055 - acc: 0.9983 - val_loss: 0.0242 - val_acc: 0.9917\n",
      "Epoch 5/20\n",
      "48000/48000 [==============================] - 5s 97us/step - loss: 0.0045 - acc: 0.9988 - val_loss: 0.0218 - val_acc: 0.9924\n",
      "Epoch 6/20\n",
      "48000/48000 [==============================] - 4s 79us/step - loss: 0.0062 - acc: 0.9981 - val_loss: 0.0150 - val_acc: 0.9950\n",
      "Epoch 7/20\n",
      "48000/48000 [==============================] - 4s 88us/step - loss: 0.0045 - acc: 0.9986 - val_loss: 0.0244 - val_acc: 0.9912\n",
      "Epoch 8/20\n",
      "48000/48000 [==============================] - 4s 82us/step - loss: 0.0045 - acc: 0.9987 - val_loss: 0.0220 - val_acc: 0.9927\n",
      "Epoch 9/20\n",
      "48000/48000 [==============================] - 3s 68us/step - loss: 0.0039 - acc: 0.9990 - val_loss: 0.0234 - val_acc: 0.9922\n",
      "Epoch 10/20\n",
      "48000/48000 [==============================] - 3s 71us/step - loss: 0.0031 - acc: 0.9994 - val_loss: 0.0174 - val_acc: 0.9944\n",
      "Epoch 11/20\n",
      "48000/48000 [==============================] - 4s 80us/step - loss: 0.0050 - acc: 0.9986 - val_loss: 0.0262 - val_acc: 0.9916\n",
      "Epoch 12/20\n",
      "48000/48000 [==============================] - 4s 77us/step - loss: 0.0038 - acc: 0.9990 - val_loss: 0.0343 - val_acc: 0.9889\n",
      "Epoch 13/20\n",
      "48000/48000 [==============================] - 4s 75us/step - loss: 0.0035 - acc: 0.9989 - val_loss: 0.0294 - val_acc: 0.9911\n",
      "Epoch 14/20\n",
      "48000/48000 [==============================] - 4s 75us/step - loss: 0.0041 - acc: 0.9988 - val_loss: 0.0291 - val_acc: 0.9916\n",
      "Epoch 15/20\n",
      "48000/48000 [==============================] - 4s 76us/step - loss: 0.0020 - acc: 0.9995 - val_loss: 0.0327 - val_acc: 0.9906\n",
      "Epoch 16/20\n",
      "48000/48000 [==============================] - 4s 76us/step - loss: 0.0037 - acc: 0.9988 - val_loss: 0.0486 - val_acc: 0.9871\n",
      "Epoch 17/20\n",
      "48000/48000 [==============================] - 4s 76us/step - loss: 0.0039 - acc: 0.9988 - val_loss: 0.0319 - val_acc: 0.9903\n",
      "Epoch 18/20\n",
      "48000/48000 [==============================] - 5s 95us/step - loss: 0.0022 - acc: 0.9994 - val_loss: 0.0370 - val_acc: 0.9892\n",
      "Epoch 19/20\n",
      "48000/48000 [==============================] - 5s 108us/step - loss: 0.0039 - acc: 0.9986 - val_loss: 0.0446 - val_acc: 0.9875\n",
      "Epoch 20/20\n",
      "48000/48000 [==============================] - 4s 88us/step - loss: 0.0026 - acc: 0.9991 - val_loss: 0.0326 - val_acc: 0.9912\n"
     ]
    },
    {
     "data": {
      "text/plain": [
       "<keras.callbacks.History at 0x1252476a0>"
      ]
     },
     "execution_count": 22,
     "metadata": {},
     "output_type": "execute_result"
    }
   ],
   "source": [
    "# 学習\n",
    "model.fit(\n",
    "    x_train,\n",
    "    y_train,\n",
    "    epochs=20,\n",
    "    batch_size=32,\n",
    "    validation_split=0.2,\n",
    "    callbacks=[tsb]\n",
    ")"
   ]
  },
  {
   "cell_type": "code",
   "execution_count": null,
   "metadata": {},
   "outputs": [],
   "source": []
  }
 ],
 "metadata": {
  "kernelspec": {
   "display_name": "Python 3",
   "language": "python",
   "name": "python3"
  },
  "language_info": {
   "codemirror_mode": {
    "name": "ipython",
    "version": 3
   },
   "file_extension": ".py",
   "mimetype": "text/x-python",
   "name": "python",
   "nbconvert_exporter": "python",
   "pygments_lexer": "ipython3",
   "version": "3.6.5"
  }
 },
 "nbformat": 4,
 "nbformat_minor": 2
}
