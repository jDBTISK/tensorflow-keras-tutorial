{
 "cells": [
  {
   "cell_type": "code",
   "execution_count": 1,
   "metadata": {},
   "outputs": [
    {
     "name": "stderr",
     "output_type": "stream",
     "text": [
      "/Users/jDB/.pyenv/versions/3.6.5/lib/python3.6/site-packages/h5py/__init__.py:36: FutureWarning: Conversion of the second argument of issubdtype from `float` to `np.floating` is deprecated. In future, it will be treated as `np.float64 == np.dtype(float).type`.\n",
      "  from ._conv import register_converters as _register_converters\n",
      "Using TensorFlow backend.\n"
     ]
    }
   ],
   "source": [
    "from keras.datasets import mnist\n",
    "\n",
    "# MNISTデータ読み込み\n",
    "(x_train, y_train), (x_test, y_test) = mnist.load_data()"
   ]
  },
  {
   "cell_type": "code",
   "execution_count": 2,
   "metadata": {},
   "outputs": [
    {
     "name": "stdout",
     "output_type": "stream",
     "text": [
      "x_train.shape: (60000, 28, 28)\n",
      "x_test.shape: (10000, 28, 28)\n",
      "y_train.shape: (60000,)\n",
      "y_test.shape: (10000,)\n"
     ]
    }
   ],
   "source": [
    "print(\"x_train.shape:\", x_train.shape)\n",
    "print(\"x_test.shape:\", x_test.shape)\n",
    "print(\"y_train.shape:\", y_train.shape)\n",
    "print(\"y_test.shape:\", y_test.shape)"
   ]
  },
  {
   "cell_type": "code",
   "execution_count": 3,
   "metadata": {},
   "outputs": [],
   "source": [
    "# 60000x28x28のデータを60000x784に変換\n",
    "x_train = x_train.reshape(60000, 784)\n",
    "# 10000x28x28のデータを10000x784に変換\n",
    "x_test = x_test.reshape(10000, 784)\n",
    "\n",
    "# 型変換\n",
    "x_train = x_train.astype('float32')\n",
    "x_test = x_test.astype('float32')\n",
    "# スケール変換\n",
    "x_train /= 255.0\n",
    "x_test /= 255.0"
   ]
  },
  {
   "cell_type": "code",
   "execution_count": 4,
   "metadata": {},
   "outputs": [],
   "source": [
    "from keras.utils import np_utils\n",
    "\n",
    "# 数値を one-hot の形に変更\n",
    "y_train = np_utils.to_categorical(y_train, 10)\n",
    "y_test = np_utils.to_categorical(y_test, 10)"
   ]
  },
  {
   "cell_type": "code",
   "execution_count": 5,
   "metadata": {},
   "outputs": [],
   "source": [
    "from keras.models import Sequential\n",
    "from keras.layers import Dense, Activation\n",
    "\n",
    "# モデルの生成\n",
    "model = Sequential()\n",
    "\n",
    "# 全結合層, 入力サイズ 784, 出力サイズ 64\n",
    "model.add(Dense(units=64, input_shape=(784,)))\n",
    "# 活性化関数に Relu を使用\n",
    "model.add(Activation(\"relu\"))\n",
    "\n",
    "# 全結合層(出力層), 出力サイズ 10\n",
    "model.add(Dense(units=10))\n",
    "# 活性化関数にソフトマックスを使用\n",
    "model.add(Activation(\"softmax\"))"
   ]
  },
  {
   "cell_type": "code",
   "execution_count": 6,
   "metadata": {},
   "outputs": [],
   "source": [
    "# 訓練プロセスの定義\n",
    "model.compile(\n",
    "    # 損失関数にクロスエントロピー誤差\n",
    "    loss=\"categorical_crossentropy\",\n",
    "    # 勾配の算出に確率的勾配降下法\n",
    "    # optimizer=\"sgd\",\n",
    "    # 勾配の算出にAdam\n",
    "    optimizer=\"adam\",\n",
    "    metrics=[\"accuracy\"]\n",
    ")"
   ]
  },
  {
   "cell_type": "code",
   "execution_count": 7,
   "metadata": {},
   "outputs": [],
   "source": [
    "from keras.callbacks import TensorBoard\n",
    "\n",
    "LOG_DIR = \"./logs\"\n",
    "tsb = TensorBoard(log_dir=LOG_DIR)"
   ]
  },
  {
   "cell_type": "code",
   "execution_count": 8,
   "metadata": {},
   "outputs": [
    {
     "name": "stdout",
     "output_type": "stream",
     "text": [
      "Train on 48000 samples, validate on 12000 samples\n",
      "Epoch 1/20\n",
      "48000/48000 [==============================] - 5s 97us/step - loss: 0.3322 - acc: 0.9054 - val_loss: 0.1987 - val_acc: 0.9430\n",
      "Epoch 2/20\n",
      "48000/48000 [==============================] - 4s 75us/step - loss: 0.1657 - acc: 0.9512 - val_loss: 0.1470 - val_acc: 0.9594\n",
      "Epoch 3/20\n",
      "48000/48000 [==============================] - 4s 75us/step - loss: 0.1185 - acc: 0.9650 - val_loss: 0.1252 - val_acc: 0.9637\n",
      "Epoch 4/20\n",
      "48000/48000 [==============================] - 4s 79us/step - loss: 0.0942 - acc: 0.9713 - val_loss: 0.1154 - val_acc: 0.9687\n",
      "Epoch 5/20\n",
      "48000/48000 [==============================] - 4s 75us/step - loss: 0.0763 - acc: 0.9779 - val_loss: 0.1032 - val_acc: 0.9699\n",
      "Epoch 6/20\n",
      "48000/48000 [==============================] - 4s 74us/step - loss: 0.0647 - acc: 0.9802 - val_loss: 0.1008 - val_acc: 0.9705\n",
      "Epoch 7/20\n",
      "48000/48000 [==============================] - 4s 77us/step - loss: 0.0541 - acc: 0.9841 - val_loss: 0.0997 - val_acc: 0.9722\n",
      "Epoch 8/20\n",
      "48000/48000 [==============================] - 5s 96us/step - loss: 0.0451 - acc: 0.9859 - val_loss: 0.1041 - val_acc: 0.9704\n",
      "Epoch 9/20\n",
      "48000/48000 [==============================] - 4s 85us/step - loss: 0.0389 - acc: 0.9884 - val_loss: 0.0949 - val_acc: 0.9731\n",
      "Epoch 10/20\n",
      "48000/48000 [==============================] - 4s 79us/step - loss: 0.0330 - acc: 0.9901 - val_loss: 0.1012 - val_acc: 0.9719\n",
      "Epoch 11/20\n",
      "48000/48000 [==============================] - 4s 76us/step - loss: 0.0291 - acc: 0.9911 - val_loss: 0.1030 - val_acc: 0.9721\n",
      "Epoch 12/20\n",
      "48000/48000 [==============================] - 4s 76us/step - loss: 0.0244 - acc: 0.9928 - val_loss: 0.1066 - val_acc: 0.9714\n",
      "Epoch 13/20\n",
      "48000/48000 [==============================] - 4s 88us/step - loss: 0.0219 - acc: 0.9936 - val_loss: 0.1006 - val_acc: 0.9725\n",
      "Epoch 14/20\n",
      "48000/48000 [==============================] - 5s 101us/step - loss: 0.0179 - acc: 0.9945 - val_loss: 0.1135 - val_acc: 0.9710\n",
      "Epoch 15/20\n",
      "48000/48000 [==============================] - 5s 112us/step - loss: 0.0165 - acc: 0.9953 - val_loss: 0.1109 - val_acc: 0.9718 1s - loss: 0.01 - ETA: 0s - loss: 0.0162 - ac\n",
      "Epoch 16/20\n",
      "48000/48000 [==============================] - 5s 98us/step - loss: 0.0152 - acc: 0.9956 - val_loss: 0.1089 - val_acc: 0.9739\n",
      "Epoch 17/20\n",
      "48000/48000 [==============================] - 4s 87us/step - loss: 0.0120 - acc: 0.9967 - val_loss: 0.1088 - val_acc: 0.9738\n",
      "Epoch 18/20\n",
      "48000/48000 [==============================] - 4s 87us/step - loss: 0.0113 - acc: 0.9970 - val_loss: 0.1219 - val_acc: 0.9724\n",
      "Epoch 19/20\n",
      "48000/48000 [==============================] - 4s 91us/step - loss: 0.0102 - acc: 0.9971 - val_loss: 0.1189 - val_acc: 0.9737\n",
      "Epoch 20/20\n",
      "48000/48000 [==============================] - 4s 89us/step - loss: 0.0088 - acc: 0.9975 - val_loss: 0.1260 - val_acc: 0.9725\n"
     ]
    }
   ],
   "source": [
    "# 訓練の実行\n",
    "history_adam = model.fit(\n",
    "    x_train,\n",
    "    y_train,\n",
    "    epochs=20,\n",
    "    batch_size=32,\n",
    "    validation_split=0.2,\n",
    "    callbacks=[tsb]\n",
    ")"
   ]
  },
  {
   "cell_type": "code",
   "execution_count": null,
   "metadata": {},
   "outputs": [],
   "source": []
  }
 ],
 "metadata": {
  "kernelspec": {
   "display_name": "Python 3",
   "language": "python",
   "name": "python3"
  },
  "language_info": {
   "codemirror_mode": {
    "name": "ipython",
    "version": 3
   },
   "file_extension": ".py",
   "mimetype": "text/x-python",
   "name": "python",
   "nbconvert_exporter": "python",
   "pygments_lexer": "ipython3",
   "version": "3.6.5"
  }
 },
 "nbformat": 4,
 "nbformat_minor": 2
}
