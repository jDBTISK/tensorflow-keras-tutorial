{
 "cells": [
  {
   "cell_type": "code",
   "execution_count": 1,
   "metadata": {},
   "outputs": [],
   "source": [
    "from keras.datasets import cifar10"
   ]
  },
  {
   "cell_type": "code",
   "execution_count": 2,
   "metadata": {},
   "outputs": [
    {
     "name": "stdout",
     "output_type": "stream",
     "text": [
      "Downloading data from https://www.cs.toronto.edu/~kriz/cifar-10-python.tar.gz\n",
      "170500096/170498071 [==============================] - 64s 0us/step\n"
     ]
    }
   ],
   "source": [
    "# データ読み込み\n",
    "(x_train, y_train), (x_test, y_test) = cifar10.load_data()"
   ]
  },
  {
   "cell_type": "code",
   "execution_count": 3,
   "metadata": {},
   "outputs": [
    {
     "name": "stdout",
     "output_type": "stream",
     "text": [
      "x_train.shape: (50000, 32, 32, 3)\n",
      "x_test.shape: (10000, 32, 32, 3)\n",
      "y_train.shape: (50000, 1)\n",
      "y_test.shape: (10000, 1)\n"
     ]
    }
   ],
   "source": [
    "print(\"x_train.shape:\", x_train.shape)\n",
    "print(\"x_test.shape:\", x_test.shape)\n",
    "print(\"y_train.shape:\", y_train.shape)\n",
    "print(\"y_test.shape:\", y_test.shape)"
   ]
  },
  {
   "cell_type": "code",
   "execution_count": 5,
   "metadata": {},
   "outputs": [],
   "source": [
    "# 学習データ加工\n",
    "\n",
    "# 型変換\n",
    "x_train = x_train.astype('float32')\n",
    "x_test = x_test.astype('float32')\n",
    "# スケール変換\n",
    "x_train /= 255.0\n",
    "x_test /= 255.0"
   ]
  },
  {
   "cell_type": "code",
   "execution_count": 6,
   "metadata": {},
   "outputs": [],
   "source": [
    "# 正解データ加工\n",
    "\n",
    "from keras.utils import np_utils\n",
    "\n",
    "# 数値を one-hot の形に変更\n",
    "y_train = np_utils.to_categorical(y_train, 10)\n",
    "y_test = np_utils.to_categorical(y_test, 10)"
   ]
  },
  {
   "cell_type": "code",
   "execution_count": 7,
   "metadata": {},
   "outputs": [],
   "source": [
    "from keras.models import Sequential\n",
    "\n",
    "# モデルの生成\n",
    "model = Sequential()"
   ]
  },
  {
   "cell_type": "code",
   "execution_count": 8,
   "metadata": {},
   "outputs": [],
   "source": [
    "# 畳み込み層の追加\n",
    "\n",
    "from keras.layers import Conv2D\n",
    "\n",
    "model.add(Conv2D(\n",
    "    # チャンネル数(特徴マップの数)\n",
    "    filters=32,\n",
    "    # 入力層\n",
    "    input_shape=(32, 32, 3),\n",
    "    # カーネル(入力データにマスクする行列)のサイズ\n",
    "    kernel_size=(3, 3),\n",
    "    # ストライド幅(１マスずつ)\n",
    "    strides=(1, 1),\n",
    "    # ゼロパディングを利用して入力と出力のサイズ(縦横幅)を等しくする\n",
    "    padding=\"same\",\n",
    "    # 活性化関数に Relu関数を指定\n",
    "    activation=\"relu\"\n",
    "))\n",
    "\n",
    "model.add(Conv2D(\n",
    "    # チャンネル数(特徴マップの数)\n",
    "    filters=32,\n",
    "    # カーネル(入力データにマスクする行列)のサイズ\n",
    "    kernel_size=(3, 3),\n",
    "    # ストライド幅(１マスずつ)\n",
    "    strides=(1, 1),\n",
    "    # ゼロパディングを利用して入力と出力のサイズ(縦横幅)を等しくする\n",
    "    padding=\"same\",\n",
    "    # 活性化関数に Relu関数を指定\n",
    "    activation=\"relu\"\n",
    "))"
   ]
  },
  {
   "cell_type": "code",
   "execution_count": 9,
   "metadata": {},
   "outputs": [],
   "source": [
    "# プーリング層の追加\n",
    "\n",
    "from keras.layers import MaxPool2D\n",
    "\n",
    "model.add(MaxPool2D(pool_size=(2, 2)))"
   ]
  },
  {
   "cell_type": "code",
   "execution_count": 10,
   "metadata": {},
   "outputs": [],
   "source": [
    "# ドロップアウト\n",
    "\n",
    "from keras.layers import Dropout\n",
    "\n",
    "model.add(Dropout(0.25))"
   ]
  },
  {
   "cell_type": "code",
   "execution_count": 11,
   "metadata": {},
   "outputs": [],
   "source": [
    "model.add(Conv2D(\n",
    "    # チャンネル数(特徴マップの数)\n",
    "    filters=64,\n",
    "    # カーネル(入力データにマスクする行列)のサイズ\n",
    "    kernel_size=(3, 3),\n",
    "    # ストライド幅(１マスずつ)\n",
    "    strides=(1, 1),\n",
    "    # ゼロパディングを利用して入力と出力のサイズ(縦横幅)を等しくする\n",
    "    padding=\"same\",\n",
    "    # 活性化関数に Relu関数を指定\n",
    "    activation=\"relu\"\n",
    "))\n",
    "\n",
    "model.add(Conv2D(\n",
    "    # チャンネル数(特徴マップの数)\n",
    "    filters=64,\n",
    "    # カーネル(入力データにマスクする行列)のサイズ\n",
    "    kernel_size=(3, 3),\n",
    "    # ストライド幅(１マスずつ)\n",
    "    strides=(1, 1),\n",
    "    # ゼロパディングを利用して入力と出力のサイズ(縦横幅)を等しくする\n",
    "    padding=\"same\",\n",
    "    # 活性化関数に Relu関数を指定\n",
    "    activation=\"relu\"\n",
    "))\n",
    "\n",
    "model.add(MaxPool2D(pool_size=(2, 2)))\n",
    "model.add(Dropout(0.25))"
   ]
  },
  {
   "cell_type": "code",
   "execution_count": 12,
   "metadata": {},
   "outputs": [
    {
     "data": {
      "text/plain": [
       "(None, 8, 8, 64)"
      ]
     },
     "execution_count": 12,
     "metadata": {},
     "output_type": "execute_result"
    }
   ],
   "source": [
    "# データ数, 縦, 横, チャンネル数\n",
    "model.output_shape"
   ]
  },
  {
   "cell_type": "code",
   "execution_count": 13,
   "metadata": {},
   "outputs": [
    {
     "data": {
      "text/plain": [
       "(None, 4096)"
      ]
     },
     "execution_count": 13,
     "metadata": {},
     "output_type": "execute_result"
    }
   ],
   "source": [
    "# 全結合層では ２次元テンソルしか入力出来ないので変換\n",
    "\n",
    "from keras.layers import Flatten\n",
    "\n",
    "model.add(Flatten())\n",
    "model.output_shape"
   ]
  },
  {
   "cell_type": "code",
   "execution_count": 14,
   "metadata": {},
   "outputs": [],
   "source": [
    "# 全結合層\n",
    "\n",
    "from keras.layers import Dense\n",
    "\n",
    "# 出力サイズ 512\n",
    "model.add(Dense(units=512, activation=\"relu\"))\n",
    "model.add(Dropout(0.5))\n",
    "\n",
    "# 出力層, サイズ 10\n",
    "model.add(Dense(units=10, activation=\"softmax\"))"
   ]
  },
  {
   "cell_type": "code",
   "execution_count": 15,
   "metadata": {},
   "outputs": [],
   "source": [
    "from keras.callbacks import TensorBoard\n",
    "\n",
    "LOG_DIR = \"./logs\"\n",
    "tsb = TensorBoard(log_dir=LOG_DIR)"
   ]
  },
  {
   "cell_type": "code",
   "execution_count": 16,
   "metadata": {},
   "outputs": [],
   "source": [
    "# 学習プロセス設定\n",
    "model.compile(\n",
    "    # 勾配の算出にAdam\n",
    "    optimizer=\"adam\",\n",
    "    # 損失関数にクロスエントロピー誤差\n",
    "    loss=\"categorical_crossentropy\",\n",
    "    metrics=[\"accuracy\"]\n",
    ")"
   ]
  },
  {
   "cell_type": "code",
   "execution_count": 17,
   "metadata": {},
   "outputs": [
    {
     "name": "stdout",
     "output_type": "stream",
     "text": [
      "Train on 40000 samples, validate on 10000 samples\n",
      "Epoch 1/2\n",
      "40000/40000 [==============================] - 335s 8ms/step - loss: 1.5373 - acc: 0.4392 - val_loss: 1.1524 - val_acc: 0.5954\n",
      "Epoch 2/2\n",
      "40000/40000 [==============================] - 418s 10ms/step - loss: 1.1309 - acc: 0.5967 - val_loss: 0.9225 - val_acc: 0.6772\n"
     ]
    }
   ],
   "source": [
    "# 学習の実行\n",
    "histroy_model = model.fit(\n",
    "    x_train,\n",
    "    y_train,\n",
    "    batch_size=32,\n",
    "    epochs=2,\n",
    "    validation_split=0.2,\n",
    "    callbacks=[tsb]\n",
    ")"
   ]
  },
  {
   "cell_type": "code",
   "execution_count": null,
   "metadata": {},
   "outputs": [],
   "source": []
  }
 ],
 "metadata": {
  "kernelspec": {
   "display_name": "Python 3",
   "language": "python",
   "name": "python3"
  },
  "language_info": {
   "codemirror_mode": {
    "name": "ipython",
    "version": 3
   },
   "file_extension": ".py",
   "mimetype": "text/x-python",
   "name": "python",
   "nbconvert_exporter": "python",
   "pygments_lexer": "ipython3",
   "version": "3.6.5"
  }
 },
 "nbformat": 4,
 "nbformat_minor": 2
}
