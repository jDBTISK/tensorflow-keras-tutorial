{
 "cells": [
  {
   "cell_type": "code",
   "execution_count": 8,
   "metadata": {},
   "outputs": [
    {
     "name": "stderr",
     "output_type": "stream",
     "text": [
      "/Users/jDB/.pyenv/versions/3.6.5/lib/python3.6/site-packages/h5py/__init__.py:36: FutureWarning: Conversion of the second argument of issubdtype from `float` to `np.floating` is deprecated. In future, it will be treated as `np.float64 == np.dtype(float).type`.\n",
      "  from ._conv import register_converters as _register_converters\n"
     ]
    }
   ],
   "source": [
    "import tensorflow as tf"
   ]
  },
  {
   "cell_type": "code",
   "execution_count": 9,
   "metadata": {},
   "outputs": [],
   "source": [
    "x = tf.Variable(0., name=\"x\")\n",
    "# y = (x-1)^2 の2次関数\n",
    "# この関数の結果が最小になるパラメータxを求める\n",
    "f = (x - 1) ** 2\n",
    "\n",
    "# 最急降下法に学習率0.1を指定\n",
    "optimizer = tf.train.GradientDescentOptimizer(\n",
    "    learning_rate=0.1\n",
    ")\n",
    "# f の値が最小になるよう x の値を少しずつずらす\n",
    "train_step = optimizer.minimize(f)"
   ]
  },
  {
   "cell_type": "code",
   "execution_count": 10,
   "metadata": {},
   "outputs": [
    {
     "name": "stdout",
     "output_type": "stream",
     "text": [
      "1回目: x = 0.2\n",
      "2回目: x = 0.36\n",
      "3回目: x = 0.48800004\n",
      "4回目: x = 0.59040004\n",
      "5回目: x = 0.67232\n",
      "6回目: x = 0.73785603\n",
      "7回目: x = 0.7902848\n",
      "8回目: x = 0.8322278\n",
      "9回目: x = 0.86578226\n",
      "10回目: x = 0.8926258\n",
      "11回目: x = 0.91410065\n",
      "12回目: x = 0.9312805\n",
      "13回目: x = 0.9450244\n",
      "14回目: x = 0.9560195\n",
      "15回目: x = 0.9648156\n",
      "16回目: x = 0.9718525\n",
      "17回目: x = 0.97748196\n",
      "18回目: x = 0.98198557\n",
      "19回目: x = 0.98558843\n",
      "20回目: x = 0.98847073\n"
     ]
    }
   ],
   "source": [
    "sess = tf.Session()\n",
    "sess.run(tf.global_variables_initializer())\n",
    "x_lists = []\n",
    "for i in range(20):\n",
    "    sess.run(train_step)\n",
    "    x_lists.append(sess.run(x))\n",
    "    print(\"{}回目: x =\".format(i + 1), x_lists[-1])"
   ]
  },
  {
   "cell_type": "code",
   "execution_count": 3,
   "metadata": {},
   "outputs": [],
   "source": [
    "import matplotlib.pyplot as plt\n",
    "import numpy as np"
   ]
  },
  {
   "cell_type": "code",
   "execution_count": 14,
   "metadata": {},
   "outputs": [
    {
     "data": {
      "image/png": "[encoded data removed]",
      "text/plain": [
       "<Figure size 432x288 with 1 Axes>"
      ]
     },
     "metadata": {},
     "output_type": "display_data"
    }
   ],
   "source": [
    "data_x = np.linspace(-0, 2, 100)\n",
    "plt.plot(x_lists, (lambda x: (x - 1) ** 2)(np.array(x_lists)), \"o\")\n",
    "plt.plot(data_x, (lambda x: (x - 1) ** 2)(data_x))\n",
    "\n",
    "plt.show()"
   ]
  },
  {
   "cell_type": "code",
   "execution_count": null,
   "metadata": {},
   "outputs": [],
   "source": []
  }
 ],
 "metadata": {
  "kernelspec": {
   "display_name": "Python 3",
   "language": "python",
   "name": "python3"
  },
  "language_info": {
   "codemirror_mode": {
    "name": "ipython",
    "version": 3
   },
   "file_extension": ".py",
   "mimetype": "text/x-python",
   "name": "python",
   "nbconvert_exporter": "python",
   "pygments_lexer": "ipython3",
   "version": "3.6.5"
  }
 },
 "nbformat": 4,
 "nbformat_minor": 2
}
