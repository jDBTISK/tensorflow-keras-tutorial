{
 "cells": [
  {
   "cell_type": "code",
   "execution_count": 1,
   "metadata": {},
   "outputs": [
    {
     "name": "stderr",
     "output_type": "stream",
     "text": [
      "/Users/jDB/.pyenv/versions/3.6.5/lib/python3.6/site-packages/h5py/__init__.py:36: FutureWarning: Conversion of the second argument of issubdtype from `float` to `np.floating` is deprecated. In future, it will be treated as `np.float64 == np.dtype(float).type`.\n",
      "  from ._conv import register_converters as _register_converters\n"
     ]
    }
   ],
   "source": [
    "import tensorflow as tf"
   ]
  },
  {
   "cell_type": "code",
   "execution_count": 2,
   "metadata": {},
   "outputs": [],
   "source": [
    "a = tf.Variable(1, name=\"a\")\n",
    "b = tf.assign(a, a + 1)"
   ]
  },
  {
   "cell_type": "code",
   "execution_count": 8,
   "metadata": {},
   "outputs": [
    {
     "name": "stdout",
     "output_type": "stream",
     "text": [
      "1回目: 2\n",
      "2回目: 3\n",
      "3回目: 4\n",
      "4回目: 5\n",
      "5回目: 6\n",
      "6回目: 7\n",
      "7回目: 8\n",
      "8回目: 9\n",
      "9回目: 10\n",
      "10回目: 11\n"
     ]
    }
   ],
   "source": [
    "sess = tf.Session()\n",
    "sess.run(tf.global_variables_initializer())\n",
    "\n",
    "for i in range(10):\n",
    "    print(\"{}回目:\".format(i + 1), sess.run(b))"
   ]
  },
  {
   "cell_type": "code",
   "execution_count": 10,
   "metadata": {},
   "outputs": [
    {
     "name": "stdout",
     "output_type": "stream",
     "text": [
      "1回目: 2\n",
      "2回目: 3\n",
      "3回目: 4\n",
      "4回目: 5\n",
      "5回目: 6\n",
      "6回目: 7\n",
      "7回目: 8\n",
      "8回目: 9\n",
      "9回目: 10\n",
      "10回目: 11\n"
     ]
    },
    {
     "data": {
      "text/plain": [
       "'model/3-4.ckpt'"
      ]
     },
     "execution_count": 10,
     "metadata": {},
     "output_type": "execute_result"
    }
   ],
   "source": [
    "# セッションを作り直すと変数も初期化\n",
    "sess = tf.Session()\n",
    "sess.run(tf.global_variables_initializer())\n",
    "\n",
    "for i in range(10):\n",
    "    print(\"{}回目:\".format(i + 1), sess.run(b))\n",
    "\n",
    "saver = tf.train.Saver()\n",
    "# 現セッションの変数をファイルに書き出し\n",
    "saver.save(sess, \"models/3-4.ckpt\")"
   ]
  },
  {
   "cell_type": "code",
   "execution_count": 12,
   "metadata": {},
   "outputs": [
    {
     "name": "stdout",
     "output_type": "stream",
     "text": [
      "INFO:tensorflow:Restoring parameters from model/3-4.ckpt\n",
      "1回目: 12\n",
      "2回目: 13\n",
      "3回目: 14\n",
      "4回目: 15\n",
      "5回目: 16\n",
      "6回目: 17\n",
      "7回目: 18\n",
      "8回目: 19\n",
      "9回目: 20\n",
      "10回目: 21\n"
     ]
    }
   ],
   "source": [
    "saver = tf.train.Saver()\n",
    "\n",
    "# セッションを作り直すと変数も初期化\n",
    "sess = tf.Session()\n",
    "sess.run(tf.global_variables_initializer())\n",
    "# 保存していたパラメータを読み込み\n",
    "saver.restore(sess, save_path=\"models/3-4.ckpt\")\n",
    "\n",
    "for i in range(10):\n",
    "    print(\"{}回目:\".format(i + 1), sess.run(b))"
   ]
  },
  {
   "cell_type": "code",
   "execution_count": null,
   "metadata": {},
   "outputs": [],
   "source": []
  }
 ],
 "metadata": {
  "kernelspec": {
   "display_name": "Python 3",
   "language": "python",
   "name": "python3"
  },
  "language_info": {
   "codemirror_mode": {
    "name": "ipython",
    "version": 3
   },
   "file_extension": ".py",
   "mimetype": "text/x-python",
   "name": "python",
   "nbconvert_exporter": "python",
   "pygments_lexer": "ipython3",
   "version": "3.6.5"
  }
 },
 "nbformat": 4,
 "nbformat_minor": 2
}
